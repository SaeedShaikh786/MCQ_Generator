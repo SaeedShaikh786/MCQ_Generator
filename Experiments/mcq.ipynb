{
 "cells": [
  {
   "cell_type": "code",
   "execution_count": 5,
   "metadata": {},
   "outputs": [
    {
     "data": {
      "text/plain": [
       "True"
      ]
     },
     "execution_count": 5,
     "metadata": {},
     "output_type": "execute_result"
    }
   ],
   "source": [
    "import dotenv\n",
    "import os\n",
    "dotenv.load_dotenv()\n"
   ]
  },
  {
   "cell_type": "code",
   "execution_count": 6,
   "metadata": {},
   "outputs": [],
   "source": [
    "KEY=os.getenv(\"API_KEY\")"
   ]
  },
  {
   "cell_type": "code",
   "execution_count": 9,
   "metadata": {},
   "outputs": [
    {
     "name": "stdout",
     "output_type": "stream",
     "text": [
      "1. China\n",
      "2. Japan\n",
      "3. India\n",
      "4. Indonesia\n",
      "5. South Korea\n",
      "6. Thailand\n",
      "7. Turkey\n",
      "8. Saudi Arabia\n",
      "9. Iran\n",
      "10. Pakistan\n"
     ]
    }
   ],
   "source": [
    "from langchain_google_genai import ChatGoogleGenerativeAI\n",
    "\n",
    "llm = ChatGoogleGenerativeAI(model=\"gemini-pro\",google_api_key=KEY)\n",
    "print(llm.invoke(\"top 10 country in asia in terms of GDP\").content)"
   ]
  },
  {
   "cell_type": "code",
   "execution_count": 10,
   "metadata": {},
   "outputs": [],
   "source": [
    "import streamlit as st\n",
    "from langchain import hub\n",
    "from langchain.agents import AgentExecutor, create_react_agent, load_tools\n",
    "from langchain.prompts import PromptTemplate\n",
    "from langchain.chains import LLMChain,SequentialChain\n",
    "import PyPDF2\n"
   ]
  },
  {
   "cell_type": "code",
   "execution_count": 11,
   "metadata": {},
   "outputs": [],
   "source": [
    "RESPONSE_JSON = {\n",
    "    \"1\": {\n",
    "        \"mcq\": \"multiple choice question\",\n",
    "        \"options\": {\n",
    "            \"a\": \"choice here\",\n",
    "            \"b\": \"choice here\",\n",
    "            \"c\": \"choice here\",\n",
    "            \"d\": \"choice here\",\n",
    "        },\n",
    "        \"correct\": \"correct answer\",\n",
    "    },\n",
    "    \"2\": {\n",
    "        \"mcq\": \"multiple choice question\",\n",
    "        \"options\": {\n",
    "            \"a\": \"choice here\",\n",
    "            \"b\": \"choice here\",\n",
    "            \"c\": \"choice here\",\n",
    "            \"d\": \"choice here\",\n",
    "        },\n",
    "        \"correct\": \"correct answer\",\n",
    "    },\n",
    "    \"3\": {\n",
    "        \"mcq\": \"multiple choice question\",\n",
    "        \"options\": {\n",
    "            \"a\": \"choice here\",\n",
    "            \"b\": \"choice here\",\n",
    "            \"c\": \"choice here\",\n",
    "            \"d\": \"choice here\",\n",
    "        },\n",
    "        \"correct\": \"correct answer\",\n",
    "    },\n",
    "}"
   ]
  },
  {
   "cell_type": "code",
   "execution_count": 12,
   "metadata": {},
   "outputs": [],
   "source": [
    "TEMPLATE = \"\"\"\n",
    "Text:{text}\n",
    "You are an expert MCQ maker.Given the about text, it is your job to\\\n",
    "create a quize of {number} multiple choice questions fro {subject} students in {tone} tone.\n",
    "Make sure the questions are not repated and check all questions to be conforming the text as well.\n",
    "Make sure to Format your Response like RESPONSE_JSON below use it as guide. \\\n",
    "Ensure to make {number} MCQs\n",
    "### RESPONSE_JSON\n",
    "{response_json}\n",
    "\"\"\"\n"
   ]
  },
  {
   "cell_type": "code",
   "execution_count": 13,
   "metadata": {},
   "outputs": [],
   "source": [
    "quiz_generator_prompt = PromptTemplate(\n",
    "    input_variables=[\"text\",\"number\",\"subject\",\"tone\",\"response_json\"],\n",
    "    template=TEMPLATE\n",
    ")"
   ]
  },
  {
   "cell_type": "code",
   "execution_count": 14,
   "metadata": {},
   "outputs": [],
   "source": [
    "quiz_chain = LLMChain(\n",
    "    llm=llm,\n",
    "    prompt=quiz_generator_prompt,\n",
    "    output_key=\"quiz\",\n",
    "    verbose=True\n",
    ")"
   ]
  },
  {
   "cell_type": "code",
   "execution_count": 15,
   "metadata": {},
   "outputs": [],
   "source": [
    "TEMPLATE2=\"\"\"\n",
    "You are an expert english grammarian and writer. Given a Multiple Choice Quiz for {subject} students.\\\n",
    "You need to evaluate the complexity of the question and give a complete analysis of the quiz. Only use at max 50 words for complexity analysis. \n",
    "if the quiz is not at per with the cognitive and analytical abilities of the students,\\\n",
    "update the quiz questions which needs to be changed and change the tone such that it perfectly fits the student abilities\n",
    "Quiz_MCQs:\n",
    "{quiz}\n",
    "\n",
    "Check from an expert English Writer of the above quiz:\n",
    "\"\"\"\n"
   ]
  },
  {
   "cell_type": "code",
   "execution_count": 16,
   "metadata": {},
   "outputs": [],
   "source": [
    "quiz_evaluation_prompt = PromptTemplate(\n",
    "    input_variables=[\"subject\",\"quiz\"],\n",
    "    template=TEMPLATE2\n",
    ")"
   ]
  },
  {
   "cell_type": "code",
   "execution_count": 17,
   "metadata": {},
   "outputs": [],
   "source": [
    "review_chain = LLMChain(\n",
    "    llm=llm,\n",
    "    prompt=quiz_evaluation_prompt,\n",
    "    output_key=\"review\",\n",
    "    verbose=True\n",
    ")\n"
   ]
  },
  {
   "cell_type": "code",
   "execution_count": 18,
   "metadata": {},
   "outputs": [],
   "source": [
    "generate_evaluate_chain = SequentialChain(\n",
    "    chains=[quiz_chain,review_chain],\n",
    "    input_variables=[\"text\",\"number\",\"subject\",\"tone\",\"response_json\"],\n",
    "    output_variables=[\"quiz\",\"review\"]\n",
    ")"
   ]
  },
  {
   "cell_type": "code",
   "execution_count": 20,
   "metadata": {},
   "outputs": [
    {
     "data": {
      "text/plain": [
       "'{\"1\": {\"mcq\": \"multiple choice question\", \"options\": {\"a\": \"choice here\", \"b\": \"choice here\", \"c\": \"choice here\", \"d\": \"choice here\"}, \"correct\": \"correct answer\"}, \"2\": {\"mcq\": \"multiple choice question\", \"options\": {\"a\": \"choice here\", \"b\": \"choice here\", \"c\": \"choice here\", \"d\": \"choice here\"}, \"correct\": \"correct answer\"}, \"3\": {\"mcq\": \"multiple choice question\", \"options\": {\"a\": \"choice here\", \"b\": \"choice here\", \"c\": \"choice here\", \"d\": \"choice here\"}, \"correct\": \"correct answer\"}}'"
      ]
     },
     "execution_count": 20,
     "metadata": {},
     "output_type": "execute_result"
    }
   ],
   "source": [
    "import json\n",
    "json.dumps(RESPONSE_JSON)\n"
   ]
  },
  {
   "cell_type": "code",
   "execution_count": 21,
   "metadata": {},
   "outputs": [],
   "source": [
    "NUMBER=5 \n",
    "SUBJECT=\"AI and ML\"\n",
    "TONE=\"simple\""
   ]
  },
  {
   "cell_type": "code",
   "execution_count": 22,
   "metadata": {},
   "outputs": [],
   "source": [
    "TEXT=\"\"\" Artificial intelligence (AI) and machine learning are often used interchangeably, but machine learning is a subset of the broader category of AI.\n",
    "\n",
    "Put in context, artificial intelligence refers to the general ability of computers to emulate human thought and perform tasks in real-world environments, while machine learning refers to the technologies and algorithms that enable systems to identify patterns, make decisions, and improve themselves through experience and data. \n",
    "\n",
    "Computer programmers and software developers enable computers to analyze data and solve problems — essentially, they create artificial intelligence systems — by applying tools such as:\n",
    "\n",
    "machine learning\n",
    "deep learning\n",
    "neural networks\n",
    "computer vision\n",
    "natural language processing\n",
    "Below is a breakdown of the differences between artificial intelligence and machine learning as well as how they are being applied in organizations large and small today.\n",
    "\n",
    "What Is Artificial Intelligence?\n",
    "Artificial Intelligence is the field of developing computers and robots that are capable of behaving in ways that both mimic and go beyond human capabilities. AI-enabled programs can analyze and contextualize data to provide information or automatically trigger actions without human interference.\n",
    "\n",
    "Today, artificial intelligence is at the heart of many technologies we use, including smart devices and voice assistants such as Siri on Apple devices. Companies are incorporating techniques such as natural language processing and computer vision — the ability for computers to use human language and interpret images ­— to automate tasks, accelerate decision making, and enable customer conversations with chatbots.\n",
    "\n",
    "What Is Machine Learning?\n",
    "Machine learning is a pathway to artificial intelligence. This subcategory of AI uses algorithms to automatically learn insights and recognize patterns from data, applying that learning to make increasingly better decisions.\n",
    "\n",
    "By studying and experimenting with machine learning, programmers test the limits of how much they can improve the perception, cognition, and action of a computer system.\n",
    "\n",
    "Deep learning, an advanced method of machine learning, goes a step further. Deep learning models use large neural networks — networks that function like a human brain to logically analyze data — to learn complex patterns and make predictions independent of human input.\"\"\""
   ]
  },
  {
   "cell_type": "code",
   "execution_count": 23,
   "metadata": {},
   "outputs": [
    {
     "name": "stderr",
     "output_type": "stream",
     "text": [
      "d:\\MCQ_Generator\\venv\\lib\\site-packages\\langchain_core\\_api\\deprecation.py:119: LangChainDeprecationWarning: The method `Chain.__call__` was deprecated in langchain 0.1.0 and will be removed in 0.2.0. Use invoke instead.\n",
      "  warn_deprecated(\n"
     ]
    },
    {
     "name": "stdout",
     "output_type": "stream",
     "text": [
      "\n",
      "\n",
      "\u001b[1m> Entering new LLMChain chain...\u001b[0m\n",
      "Prompt after formatting:\n",
      "\u001b[32;1m\u001b[1;3m\n",
      "Text: Artificial intelligence (AI) and machine learning are often used interchangeably, but machine learning is a subset of the broader category of AI.\n",
      "\n",
      "Put in context, artificial intelligence refers to the general ability of computers to emulate human thought and perform tasks in real-world environments, while machine learning refers to the technologies and algorithms that enable systems to identify patterns, make decisions, and improve themselves through experience and data. \n",
      "\n",
      "Computer programmers and software developers enable computers to analyze data and solve problems — essentially, they create artificial intelligence systems — by applying tools such as:\n",
      "\n",
      "machine learning\n",
      "deep learning\n",
      "neural networks\n",
      "computer vision\n",
      "natural language processing\n",
      "Below is a breakdown of the differences between artificial intelligence and machine learning as well as how they are being applied in organizations large and small today.\n",
      "\n",
      "What Is Artificial Intelligence?\n",
      "Artificial Intelligence is the field of developing computers and robots that are capable of behaving in ways that both mimic and go beyond human capabilities. AI-enabled programs can analyze and contextualize data to provide information or automatically trigger actions without human interference.\n",
      "\n",
      "Today, artificial intelligence is at the heart of many technologies we use, including smart devices and voice assistants such as Siri on Apple devices. Companies are incorporating techniques such as natural language processing and computer vision — the ability for computers to use human language and interpret images ­— to automate tasks, accelerate decision making, and enable customer conversations with chatbots.\n",
      "\n",
      "What Is Machine Learning?\n",
      "Machine learning is a pathway to artificial intelligence. This subcategory of AI uses algorithms to automatically learn insights and recognize patterns from data, applying that learning to make increasingly better decisions.\n",
      "\n",
      "By studying and experimenting with machine learning, programmers test the limits of how much they can improve the perception, cognition, and action of a computer system.\n",
      "\n",
      "Deep learning, an advanced method of machine learning, goes a step further. Deep learning models use large neural networks — networks that function like a human brain to logically analyze data — to learn complex patterns and make predictions independent of human input.\n",
      "You are an expert MCQ maker.Given the about text, it is your job tocreate a quize of 5 multiple choice questions fro AI and ML students in simple tone.\n",
      "Make sure the questions are not repated and check all questions to be conforming the text as well.\n",
      "Make sure to Format your Response like RESPONSE_JSON below use it as guide. Ensure to make 5 MCQs\n",
      "### RESPONSE_JSON\n",
      "{\"1\": {\"mcq\": \"multiple choice question\", \"options\": {\"a\": \"choice here\", \"b\": \"choice here\", \"c\": \"choice here\", \"d\": \"choice here\"}, \"correct\": \"correct answer\"}, \"2\": {\"mcq\": \"multiple choice question\", \"options\": {\"a\": \"choice here\", \"b\": \"choice here\", \"c\": \"choice here\", \"d\": \"choice here\"}, \"correct\": \"correct answer\"}, \"3\": {\"mcq\": \"multiple choice question\", \"options\": {\"a\": \"choice here\", \"b\": \"choice here\", \"c\": \"choice here\", \"d\": \"choice here\"}, \"correct\": \"correct answer\"}}\n",
      "\u001b[0m\n",
      "\n",
      "\u001b[1m> Finished chain.\u001b[0m\n",
      "\n",
      "\n",
      "\u001b[1m> Entering new LLMChain chain...\u001b[0m\n",
      "Prompt after formatting:\n",
      "\u001b[32;1m\u001b[1;3m\n",
      "You are an expert english grammarian and writer. Given a Multiple Choice Quiz for AI and ML students.You need to evaluate the complexity of the question and give a complete analysis of the quiz. Only use at max 50 words for complexity analysis. \n",
      "if the quiz is not at per with the cognitive and analytical abilities of the students,update the quiz questions which needs to be changed and change the tone such that it perfectly fits the student abilities\n",
      "Quiz_MCQs:\n",
      "### RESPONSE_JSON\n",
      "{\"1\": {\"mcq\": \"Which of the following is NOT a tool used to create artificial intelligence systems?\", \"options\": {\"a\": \"Machine learning\", \"b\": \"Deep learning\", \"c\": \"Computer vision\", \"d\": \"Cloud computing\"}, \"correct\": \"d\"}, \"2\": {\"mcq\": \"What is the primary difference between artificial intelligence and machine learning?\", \"options\": {\"a\": \"Artificial intelligence is a broader category that includes machine learning\", \"b\": \"Machine learning is a more advanced form of artificial intelligence\", \"c\": \"Artificial intelligence focuses on human-like behavior, while machine learning focuses on data analysis\", \"d\": \"There is no difference between artificial intelligence and machine learning\"}, \"correct\": \"a\"}, \"3\": {\"mcq\": \"Which type of machine learning uses large neural networks to learn complex patterns?\", \"options\": {\"a\": \"Supervised learning\", \"b\": \"Unsupervised learning\", \"c\": \"Reinforcement learning\", \"d\": \"Deep learning\"}, \"correct\": \"d\"}, \"4\": {\"mcq\": \"What is the goal of machine learning algorithms?\", \"options\": {\"a\": \"To identify patterns and make decisions\", \"b\": \"To create chatbots\", \"c\": \"To write computer code\", \"d\": \"To control robots\"}, \"correct\": \"a\"}, \"5\": {\"mcq\": \"Which of the following is an example of an application of artificial intelligence?\", \"options\": {\"a\": \"Smart home devices\", \"b\": \"Medical diagnosis\", \"c\": \"Fraud detection\", \"d\": \"All of the above\"}, \"correct\": \"d\"}}\n",
      "\n",
      "Check from an expert English Writer of the above quiz:\n",
      "\u001b[0m\n",
      "\n",
      "\u001b[1m> Finished chain.\u001b[0m\n"
     ]
    }
   ],
   "source": [
    "response=generate_evaluate_chain(\n",
    "        {\n",
    "            \"text\": TEXT,\n",
    "            \"number\": NUMBER,\n",
    "            \"subject\":SUBJECT,\n",
    "            \"tone\": TONE,\n",
    "            \"response_json\": json.dumps(RESPONSE_JSON)\n",
    "        }\n",
    "        )"
   ]
  },
  {
   "cell_type": "code",
   "execution_count": 29,
   "metadata": {},
   "outputs": [],
   "source": [
    "quiz=response[\"quiz\"].split(\"\\n\")[1]"
   ]
  },
  {
   "cell_type": "code",
   "execution_count": 39,
   "metadata": {},
   "outputs": [
    {
     "data": {
      "text/plain": [
       "{'1': {'mcq': 'Which of the following is NOT a tool used to create artificial intelligence systems?',\n",
       "  'options': {'a': 'Machine learning',\n",
       "   'b': 'Deep learning',\n",
       "   'c': 'Computer vision',\n",
       "   'd': 'Cloud computing'},\n",
       "  'correct': 'd'},\n",
       " '2': {'mcq': 'What is the primary difference between artificial intelligence and machine learning?',\n",
       "  'options': {'a': 'Artificial intelligence is a broader category that includes machine learning',\n",
       "   'b': 'Machine learning is a more advanced form of artificial intelligence',\n",
       "   'c': 'Artificial intelligence focuses on human-like behavior, while machine learning focuses on data analysis',\n",
       "   'd': 'There is no difference between artificial intelligence and machine learning'},\n",
       "  'correct': 'a'},\n",
       " '3': {'mcq': 'Which type of machine learning uses large neural networks to learn complex patterns?',\n",
       "  'options': {'a': 'Supervised learning',\n",
       "   'b': 'Unsupervised learning',\n",
       "   'c': 'Reinforcement learning',\n",
       "   'd': 'Deep learning'},\n",
       "  'correct': 'd'},\n",
       " '4': {'mcq': 'What is the goal of machine learning algorithms?',\n",
       "  'options': {'a': 'To identify patterns and make decisions',\n",
       "   'b': 'To create chatbots',\n",
       "   'c': 'To write computer code',\n",
       "   'd': 'To control robots'},\n",
       "  'correct': 'a'},\n",
       " '5': {'mcq': 'Which of the following is an example of an application of artificial intelligence?',\n",
       "  'options': {'a': 'Smart home devices',\n",
       "   'b': 'Medical diagnosis',\n",
       "   'c': 'Fraud detection',\n",
       "   'd': 'All of the above'},\n",
       "  'correct': 'd'}}"
      ]
     },
     "execution_count": 39,
     "metadata": {},
     "output_type": "execute_result"
    }
   ],
   "source": [
    "quiz = json.loads(quiz)\n",
    "quiz"
   ]
  },
  {
   "cell_type": "code",
   "execution_count": 32,
   "metadata": {},
   "outputs": [
    {
     "data": {
      "text/plain": [
       "'### RESPONSE_JSON\\n{\"1\": {\"mcq\": \"Which of the following is NOT a tool used to create artificial intelligence systems?\", \"options\": {\"a\": \"Machine learning\", \"b\": \"Deep learning\", \"c\": \"Computer vision\", \"d\": \"Cloud computing\"}, \"correct\": \"d\"}, \"2\": {\"mcq\": \"What is the primary difference between artificial intelligence and machine learning?\", \"options\": {\"a\": \"Artificial intelligence is a broader category that includes machine learning\", \"b\": \"Machine learning is a more advanced form of artificial intelligence\", \"c\": \"Artificial intelligence focuses on human-like behavior, while machine learning focuses on data analysis\", \"d\": \"There is no difference between artificial intelligence and machine learning\"}, \"correct\": \"a\"}, \"3\": {\"mcq\": \"Which type of machine learning uses large neural networks to learn complex patterns?\", \"options\": {\"a\": \"Supervised learning\", \"b\": \"Unsupervised learning\", \"c\": \"Reinforcement learning\", \"d\": \"Deep learning\"}, \"correct\": \"d\"}, \"4\": {\"mcq\": \"What is the goal of machine learning algorithms?\", \"options\": {\"a\": \"To identify patterns and make decisions\", \"b\": \"To create chatbots\", \"c\": \"To write computer code\", \"d\": \"To control robots\"}, \"correct\": \"a\"}, \"5\": {\"mcq\": \"Which of the following is an example of an application of artificial intelligence?\", \"options\": {\"a\": \"Smart home devices\", \"b\": \"Medical diagnosis\", \"c\": \"Fraud detection\", \"d\": \"All of the above\"}, \"correct\": \"d\"}}'"
      ]
     },
     "execution_count": 32,
     "metadata": {},
     "output_type": "execute_result"
    }
   ],
   "source": [
    "response.get(\"quiz\")"
   ]
  },
  {
   "cell_type": "code",
   "execution_count": 30,
   "metadata": {},
   "outputs": [
    {
     "data": {
      "text/plain": [
       "\"**Complexity Analysis:**\\n\\nThe quiz questions are clear and concise, with options that cover the key concepts of AI and ML. The questions are appropriate for students with a basic understanding of these fields.\\n\\n**Updated Quiz Questions:**\\n\\nThe quiz is well-structured and covers the essential concepts of AI and ML. No changes are necessary.\\n\\n**Tone:**\\n\\nThe tone of the quiz is professional and objective, which is appropriate for an assessment of students' knowledge.\""
      ]
     },
     "execution_count": 30,
     "metadata": {},
     "output_type": "execute_result"
    }
   ],
   "source": [
    "response.get(\"review\")\n"
   ]
  },
  {
   "cell_type": "code",
   "execution_count": 40,
   "metadata": {},
   "outputs": [],
   "source": [
    "quiz_table_data = []\n",
    "for key, value in quiz.items():\n",
    "    mcq = value[\"mcq\"]\n",
    "    options = \" | \".join(\n",
    "        [\n",
    "            f\"{option}: {option_value}\"\n",
    "            for option, option_value in value[\"options\"].items()\n",
    "            ]\n",
    "        )\n",
    "    correct = value[\"correct\"]\n",
    "    quiz_table_data.append({\"MCQ\": mcq, \"Choices\": options, \"Correct\": correct})"
   ]
  },
  {
   "cell_type": "code",
   "execution_count": 45,
   "metadata": {},
   "outputs": [
    {
     "data": {
      "text/html": [
       "<div>\n",
       "<style scoped>\n",
       "    .dataframe tbody tr th:only-of-type {\n",
       "        vertical-align: middle;\n",
       "    }\n",
       "\n",
       "    .dataframe tbody tr th {\n",
       "        vertical-align: top;\n",
       "    }\n",
       "\n",
       "    .dataframe thead th {\n",
       "        text-align: right;\n",
       "    }\n",
       "</style>\n",
       "<table border=\"1\" class=\"dataframe\">\n",
       "  <thead>\n",
       "    <tr style=\"text-align: right;\">\n",
       "      <th></th>\n",
       "      <th>MCQ</th>\n",
       "      <th>Choices</th>\n",
       "      <th>Correct</th>\n",
       "    </tr>\n",
       "  </thead>\n",
       "  <tbody>\n",
       "    <tr>\n",
       "      <th>0</th>\n",
       "      <td>Which of the following is NOT a tool used to c...</td>\n",
       "      <td>a: Machine learning | b: Deep learning | c: Co...</td>\n",
       "      <td>d</td>\n",
       "    </tr>\n",
       "    <tr>\n",
       "      <th>1</th>\n",
       "      <td>What is the primary difference between artific...</td>\n",
       "      <td>a: Artificial intelligence is a broader catego...</td>\n",
       "      <td>a</td>\n",
       "    </tr>\n",
       "    <tr>\n",
       "      <th>2</th>\n",
       "      <td>Which type of machine learning uses large neur...</td>\n",
       "      <td>a: Supervised learning | b: Unsupervised learn...</td>\n",
       "      <td>d</td>\n",
       "    </tr>\n",
       "    <tr>\n",
       "      <th>3</th>\n",
       "      <td>What is the goal of machine learning algorithms?</td>\n",
       "      <td>a: To identify patterns and make decisions | b...</td>\n",
       "      <td>a</td>\n",
       "    </tr>\n",
       "    <tr>\n",
       "      <th>4</th>\n",
       "      <td>Which of the following is an example of an app...</td>\n",
       "      <td>a: Smart home devices | b: Medical diagnosis |...</td>\n",
       "      <td>d</td>\n",
       "    </tr>\n",
       "  </tbody>\n",
       "</table>\n",
       "</div>"
      ],
      "text/plain": [
       "                                                 MCQ  \\\n",
       "0  Which of the following is NOT a tool used to c...   \n",
       "1  What is the primary difference between artific...   \n",
       "2  Which type of machine learning uses large neur...   \n",
       "3   What is the goal of machine learning algorithms?   \n",
       "4  Which of the following is an example of an app...   \n",
       "\n",
       "                                             Choices Correct  \n",
       "0  a: Machine learning | b: Deep learning | c: Co...       d  \n",
       "1  a: Artificial intelligence is a broader catego...       a  \n",
       "2  a: Supervised learning | b: Unsupervised learn...       d  \n",
       "3  a: To identify patterns and make decisions | b...       a  \n",
       "4  a: Smart home devices | b: Medical diagnosis |...       d  "
      ]
     },
     "execution_count": 45,
     "metadata": {},
     "output_type": "execute_result"
    }
   ],
   "source": [
    "import pandas as pd\n",
    "pd.DataFrame(quiz_table_data)"
   ]
  },
  {
   "cell_type": "code",
   "execution_count": null,
   "metadata": {},
   "outputs": [],
   "source": []
  }
 ],
 "metadata": {
  "kernelspec": {
   "display_name": "base",
   "language": "python",
   "name": "python3"
  },
  "language_info": {
   "codemirror_mode": {
    "name": "ipython",
    "version": 3
   },
   "file_extension": ".py",
   "mimetype": "text/x-python",
   "name": "python",
   "nbconvert_exporter": "python",
   "pygments_lexer": "ipython3",
   "version": "3.9.19"
  }
 },
 "nbformat": 4,
 "nbformat_minor": 2
}
